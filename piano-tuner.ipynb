{
 "cells": [
  {
   "cell_type": "code",
   "execution_count": null,
   "id": "c775e65a",
   "metadata": {},
   "outputs": [],
   "source": [
    "import numpy as np\n",
    "import matplotlib.pyplot as plt\n",
    "import librosa\n",
    "import librosa.display"
   ]
  },
  {
   "cell_type": "code",
   "execution_count": null,
   "id": "85ecc6a5",
   "metadata": {
    "scrolled": true
   },
   "outputs": [],
   "source": [
    "file_name = \"./assets/scale_5_black.wav\"\n",
    "\n",
    "# Load in audio file\n",
    "buffer, sample_rate = librosa.load(file_name)\n",
    "print(sample_rate)\n",
    "max = buffer.max()\n",
    "\n",
    "# TODO: Set some kind of \"threshold\" instead?\n",
    "# Note,this method might failed with some specific kind of microphone...\n",
    "# Delete all silence at the beginning of the file\n",
    "begin = 0\n",
    "while(begin < buffer.size and abs(buffer[begin]) < (max / 10)):\n",
    "    begin += 1\n",
    "\n",
    "# Delete all silence at the beginning of the file\n",
    "end = buffer.size - 1\n",
    "while (end >= 0 and abs(buffer[end]) < (max / 20)):\n",
    "    end -= 1\n",
    "\n",
    "buffer = buffer[begin:end]\n",
    "print(str(begin) + ' - ' + str(end))"
   ]
  },
  {
   "cell_type": "code",
   "execution_count": null,
   "id": "23bc8772",
   "metadata": {},
   "outputs": [],
   "source": [
    "# Construct graph that represents the linear magnitude of audio buffer on time domain\n",
    "librosa.display.waveplot(buffer, sr=sample_rate)"
   ]
  },
  {
   "cell_type": "code",
   "execution_count": null,
   "id": "0876296c",
   "metadata": {},
   "outputs": [],
   "source": [
    "# Construct graphs that visualize smaller ranges of audio buffer\n",
    "# librosa.display.waveplot(buffer[int(sample_rate*10.04):int(sample_rate*10.05)], sr=sample_rate)\n",
    "plt.plot(buffer[int(sample_rate*2.05):int(sample_rate*2.08)])"
   ]
  },
  {
   "cell_type": "code",
   "execution_count": null,
   "id": "2e97b720",
   "metadata": {},
   "outputs": [],
   "source": [
    "# # White notes\n",
    "# n_fft = int(4096 * 16)\n",
    "# hop_length = int(4096 * 4)\n",
    "\n",
    "# Black notes - Works for scale 4 and upper\n",
    "n_fft = int(4096 * 8)\n",
    "hop_length = int(1024) # ~ 4096\n",
    "\n",
    "# # Black notes - Trying to find one that works for scale 3 and lower?\n",
    "# n_fft = int(4096)\n",
    "# hop_length = int(4)\n",
    "\n",
    "# Transform data into time-frequency-magnitude dimension.\n",
    "stft_buffer = abs(librosa.stft(buffer, n_fft=n_fft, hop_length=hop_length))\n",
    "num_freq_bin, num_frame = stft_buffer.shape\n",
    "stft_buffer.shape"
   ]
  },
  {
   "cell_type": "code",
   "execution_count": null,
   "id": "90c14504",
   "metadata": {},
   "outputs": [],
   "source": [
    "# for i in range(stft_buffer.shape[1]):\n",
    "#     plt.figure()\n",
    "#     p = stft_buffer[:, i].argmax()\n",
    "#     print(p)\n",
    "#     plt.plot(stft_buffer[:, i])\n",
    "#     plt.plot(p, stft_buffer[p, i], 'o')"
   ]
  },
  {
   "cell_type": "code",
   "execution_count": null,
   "id": "2b8cd7b8",
   "metadata": {},
   "outputs": [],
   "source": [
    "# Find the range of each bin in the new audio data\n",
    "sample_freq_arr = librosa.fft_frequencies(sr=sample_rate, n_fft=n_fft)\n",
    "bin_range = sample_freq_arr[1]\n",
    "\n",
    "bin_range"
   ]
  },
  {
   "cell_type": "code",
   "execution_count": null,
   "id": "727be1d5",
   "metadata": {},
   "outputs": [],
   "source": [
    "fig, ax = plt.subplots()\n",
    "img = librosa.display.specshow(stft_buffer, x_axis='time', y_axis='linear', ax=ax)\n",
    "ax.set_ylim([0, 800])\n",
    "ax.set(title='Using a linear frequency axis')\n",
    "fig.colorbar(img, ax=ax, format=\"%2.f\")"
   ]
  },
  {
   "cell_type": "code",
   "execution_count": null,
   "id": "956ec7df",
   "metadata": {},
   "outputs": [],
   "source": [
    "p = []\n",
    "\n",
    "for t in range(0, num_frame):\n",
    "    max_freq = 0\n",
    "    max_magnitude = 0\n",
    "    for f in range(0, num_freq_bin):\n",
    "        if (max_magnitude < np.abs(stft_buffer[f, t])):\n",
    "            max_magnitude = np.abs(stft_buffer[f, t])\n",
    "            max_freq = f\n",
    "#     Avoid absolute silence between the notes\n",
    "    if (max_freq * bin_range < librosa.note_to_hz('B8')):\n",
    "        p.append(max_freq * bin_range)\n",
    "#         print(max_freq)\n",
    "#         print(max_freq * bin_range)\n",
    "        print(librosa.hz_to_note(max_freq * bin_range))"
   ]
  },
  {
   "cell_type": "code",
   "execution_count": null,
   "id": "953241ea",
   "metadata": {},
   "outputs": [],
   "source": [
    "fig, ax = plt.subplots()\n",
    "plt.plot(p)\n",
    "# ax.set_ylim([0, 2000])"
   ]
  },
  {
   "cell_type": "code",
   "execution_count": null,
   "id": "be128c8d",
   "metadata": {},
   "outputs": [],
   "source": [
    "# librosa.estimate_tuning()"
   ]
  },
  {
   "cell_type": "code",
   "execution_count": null,
   "id": "b3d77051",
   "metadata": {},
   "outputs": [],
   "source": []
  }
 ],
 "metadata": {
  "kernelspec": {
   "display_name": "Python 3",
   "language": "python",
   "name": "python3"
  },
  "language_info": {
   "codemirror_mode": {
    "name": "ipython",
    "version": 3
   },
   "file_extension": ".py",
   "mimetype": "text/x-python",
   "name": "python",
   "nbconvert_exporter": "python",
   "pygments_lexer": "ipython3",
   "version": "3.8.5"
  }
 },
 "nbformat": 4,
 "nbformat_minor": 5
}
