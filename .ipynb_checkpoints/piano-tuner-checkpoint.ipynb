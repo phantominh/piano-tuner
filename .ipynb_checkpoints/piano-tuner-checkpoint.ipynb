{
 "cells": [
  {
   "cell_type": "code",
   "execution_count": 3,
   "id": "aad3a3f5",
   "metadata": {},
   "outputs": [],
   "source": [
    "# This snippet of code works as a piano tuner\n",
    "import numpy as np\n",
    "import matplotlib.pyplot as plt\n",
    "import librosa\n",
    "import librosa.display"
   ]
  },
  {
   "cell_type": "code",
   "execution_count": 4,
   "id": "842a5249",
   "metadata": {},
   "outputs": [
    {
     "data": {
      "text/plain": [
       "22050"
      ]
     },
     "execution_count": 4,
     "metadata": {},
     "output_type": "execute_result"
    }
   ],
   "source": [
    "# Load in audio file\n",
    "file_name = \"scale_7.wav\"\n",
    "buffer, sample_rate = librosa.load(file_name)\n",
    "sample_rate"
   ]
  },
  {
   "cell_type": "code",
   "execution_count": 5,
   "id": "01b4e4e7",
   "metadata": {},
   "outputs": [
    {
     "data": {
      "text/plain": [
       "(2049, 95)"
      ]
     },
     "execution_count": 5,
     "metadata": {},
     "output_type": "execute_result"
    }
   ],
   "source": [
    "# Transform data into time-frequency-magnitude dimension.\n",
    "stft_buffer = abs(librosa.stft(buffer, n_fft=4096, hop_length=4096))\n",
    "num_freq_bin, num_frame = stft_buffer.shape\n",
    "stft_buffer.shape"
   ]
  },
  {
   "cell_type": "code",
   "execution_count": null,
   "id": "7d87114f",
   "metadata": {},
   "outputs": [],
   "source": [
    "# Find the range of each bin in the new audio data\n",
    "sample_freq_arr = librosa.fft_frequencies(sr=sample_rate, n_fft=4096)\n",
    "bin_range = sample_freq_arr[1]\n",
    "\n",
    "bin_range"
   ]
  },
  {
   "cell_type": "code",
   "execution_count": 6,
   "id": "c30ee460",
   "metadata": {},
   "outputs": [
    {
     "data": {
      "text/plain": [
       "<matplotlib.colorbar.Colorbar at 0x7fd9242a4790>"
      ]
     },
     "execution_count": 6,
     "metadata": {},
     "output_type": "execute_result"
    },
    {
     "data": {
      "image/png": "[encoded data removed]",
      "text/plain": [
       "<Figure size 432x288 with 2 Axes>"
      ]
     },
     "metadata": {
      "needs_background": "light"
     },
     "output_type": "display_data"
    }
   ],
   "source": [
    "fig, ax = plt.subplots()\n",
    "img = librosa.display.specshow(stft_buffer, x_axis='time', y_axis='linear', ax=ax)\n",
    "ax.set(title='Using a linear frequency axis')\n",
    "fig.colorbar(img, ax=ax, format=\"%2.f\")"
   ]
  },
  {
   "cell_type": "code",
   "execution_count": null,
   "id": "786e61aa",
   "metadata": {},
   "outputs": [],
   "source": []
  }
 ],
 "metadata": {
  "kernelspec": {
   "display_name": "Python 3",
   "language": "python",
   "name": "python3"
  },
  "language_info": {
   "codemirror_mode": {
    "name": "ipython",
    "version": 3
   },
   "file_extension": ".py",
   "mimetype": "text/x-python",
   "name": "python",
   "nbconvert_exporter": "python",
   "pygments_lexer": "ipython3",
   "version": "3.8.5"
  }
 },
 "nbformat": 4,
 "nbformat_minor": 5
}
